{
 "cells": [
  {
   "cell_type": "code",
   "execution_count": 1,
   "id": "bfc1b26e-974d-4515-a3c5-011bbaab68c9",
   "metadata": {},
   "outputs": [],
   "source": [
    "import redivis\n",
    "import numpy as np\n",
    "import geopandas as gpd"
   ]
  },
  {
   "cell_type": "markdown",
   "id": "9d680f8e-6bd1-4fb1-87e2-910940f2b5b6",
   "metadata": {},
   "source": [
    "# Prepare resistivity profiles for Step 1\n",
    "\n",
    "- Download corresponding resistivity profiles from the online database: https://doi.org/10.57761/v480-xw80 \n",
    "- Export to a format that can be readable to Leapfrog\n",
    " "
   ]
  },
  {
   "cell_type": "markdown",
   "id": "a1079610-7a0d-457a-8c76-9638d6768bff",
   "metadata": {},
   "source": [
    "## Download resistivity profiles"
   ]
  },
  {
   "cell_type": "code",
   "execution_count": 2,
   "id": "e0cc3dbf-4503-4a6d-acea-36cc270e9773",
   "metadata": {},
   "outputs": [],
   "source": [
    "org_em_recharge = redivis.organization(\"KnightAccelerator\")\n",
    "em_dataset = org_em_recharge.dataset(\"em_data\")\n",
    "sediment_type_dataset = org_em_recharge.dataset(\"sediment_type_data\")\n",
    "waterlevel_dataset = org_em_recharge.dataset(\"waterlevel_data\")\n",
    "ca_geo_dataset = org_em_recharge.dataset(\"California State Geo Features\")\n",
    "target_path = \"./\""
   ]
  },
  {
   "cell_type": "code",
   "execution_count": 5,
   "id": "12202cda-b86b-44f6-b138-296377252978",
   "metadata": {},
   "outputs": [],
   "source": [
    "import redivis"
   ]
  },
  {
   "cell_type": "code",
   "execution_count": 6,
   "id": "df30f6da-b347-42b6-9ed3-155d28af7afb",
   "metadata": {},
   "outputs": [
    {
     "data": {
      "text/plain": [
       "'0.11.1'"
      ]
     },
     "execution_count": 6,
     "metadata": {},
     "output_type": "execute_result"
    }
   ],
   "source": [
    "redivis.__version__"
   ]
  },
  {
   "cell_type": "code",
   "execution_count": 3,
   "id": "1061fb1c-b44c-4197-90fd-7e883ec15cfe",
   "metadata": {},
   "outputs": [],
   "source": [
    "gdf_cv = gpd.read_file(\"./data/shp/cv.shp\")\n",
    "geom = gdf_cv.geometry[0]\n",
    "\n",
    "from shapely.geometry import Polygon\n",
    "\n",
    "USER_DEFINED_POLYGON = gdf_cv.geometry[0]\n",
    "xx, yy = USER_DEFINED_POLYGON.exterior.coords.xy\n",
    "\n",
    "# Create polygon from lists of points\n",
    "x = xx[::1].tolist()\n",
    "y = yy[::1].tolist()\n",
    "\n",
    "USER_DEFINED_POLYGON = Polygon(zip(x,y))"
   ]
  },
  {
   "cell_type": "code",
   "execution_count": 4,
   "id": "b8e7070f-c0cc-4243-b03b-c9ae2a07ddcd",
   "metadata": {},
   "outputs": [
    {
     "data": {
      "application/json": {
       "ascii": false,
       "bar_format": null,
       "colour": null,
       "elapsed": 0.01095890998840332,
       "initial": 0,
       "n": 0,
       "ncols": null,
       "nrows": 24,
       "postfix": null,
       "prefix": "",
       "rate": null,
       "total": 376760,
       "unit": "it",
       "unit_divisor": 1000,
       "unit_scale": false
      },
      "application/vnd.jupyter.widget-view+json": {
       "model_id": "",
       "version_major": 2,
       "version_minor": 0
      },
      "text/plain": [
       "  0%|          | 0/376760 [00:00<?, ?it/s]"
      ]
     },
     "metadata": {},
     "output_type": "display_data"
    },
    {
     "name": "stdout",
     "output_type": "stream",
     "text": [
      "Completed: 376760 rows downloaded.\n"
     ]
    }
   ],
   "source": [
    "# Then draw a polygon\n",
    "SURVEY_ID = \"cdwr_sacv\"\n",
    "\n",
    "q = em_dataset.query(f\"\"\"\n",
    "    SELECT RECORD, ELEVATION, UTMX, UTMY, LINE_NO, SURVEY_ID, DOI_STANDARD, RESDATA, MEASUREMENTS\n",
    "    FROM SurveyLocation L\n",
    "    WHERE SURVEY_ID=\"{SURVEY_ID}\" AND ST_Contains(ST_GeogFromText(\"{USER_DEFINED_POLYGON}\"),L.geometry)\n",
    "\"\"\")\n",
    "df_em = q.to_dataframe()\n",
    "df_em.to_csv(f\"{target_path}/em_resistivity.csv\", index=False)\n",
    "\n",
    "print(f\"Completed: {len(df_em.index)} rows downloaded.\")"
   ]
  },
  {
   "cell_type": "code",
   "execution_count": 9,
   "id": "8af62f67-a88a-4031-9bf2-bae180f15511",
   "metadata": {},
   "outputs": [
    {
     "name": "stdout",
     "output_type": "stream",
     "text": [
      "Loading... Layer Thickness to the compute server\n"
     ]
    },
    {
     "data": {
      "application/json": {
       "ascii": false,
       "bar_format": null,
       "colour": null,
       "elapsed": 0.026855945587158203,
       "initial": 0,
       "n": 0,
       "ncols": null,
       "nrows": 24,
       "postfix": null,
       "prefix": "",
       "rate": null,
       "total": 1,
       "unit": "it",
       "unit_divisor": 1000,
       "unit_scale": false
      },
      "application/vnd.jupyter.widget-view+json": {
       "model_id": "",
       "version_major": 2,
       "version_minor": 0
      },
      "text/plain": [
       "  0%|          | 0/1 [00:00<?, ?it/s]"
      ]
     },
     "metadata": {},
     "output_type": "display_data"
    },
    {
     "name": "stdout",
     "output_type": "stream",
     "text": [
      "Completed.\n"
     ]
    }
   ],
   "source": [
    "print(\"Loading... Layer Thickness to the compute server\")\n",
    "# TODO: add a season in the Survey table\n",
    "q = em_dataset.query(f\"\"\"\n",
    "    SELECT THICKNESS, KIND, YEAR, SEASON\n",
    "    FROM Survey\n",
    "    WHERE ID=\"{SURVEY_ID}\" AND GEOTYPE=\"BOUNDS\"\n",
    "\"\"\")\n",
    "df_thickness = q.to_dataframe()\n",
    "df_thickness.to_csv(f\"{target_path}/thickness.csv\", index=False)\n",
    "\n",
    "print(f\"Completed.\")"
   ]
  },
  {
   "cell_type": "markdown",
   "id": "cab12174-cffe-4517-9176-9254105ea0bd",
   "metadata": {},
   "source": [
    "## Export to files readable in Leapfrog"
   ]
  },
  {
   "cell_type": "code",
   "execution_count": 11,
   "id": "72d016cb-bbd2-4a00-b0a0-f8b2dc574821",
   "metadata": {},
   "outputs": [],
   "source": [
    "from emrecharge.datasets import EMDataset"
   ]
  },
  {
   "cell_type": "code",
   "execution_count": 12,
   "id": "24b692a5-4bb5-44bc-bceb-f94fb58bae78",
   "metadata": {},
   "outputs": [],
   "source": [
    "SPATIAL_UNIT = 'm'\n",
    "em_data = EMDataset(\n",
    "    \"./em_resistivity.csv\", \n",
    "    \"./thickness.csv\",\n",
    "    SPATIAL_UNIT\n",
    ")"
   ]
  },
  {
   "cell_type": "code",
   "execution_count": 18,
   "id": "a7d6e266-b496-49b8-a398-2d6f99e2f65a",
   "metadata": {},
   "outputs": [
    {
     "data": {
      "text/plain": [
       "array([     1,      2,      2, ..., 132016, 132017, 132018])"
      ]
     },
     "execution_count": 18,
     "metadata": {},
     "output_type": "execute_result"
    }
   ],
   "source": [
    "em_data.timestamps"
   ]
  },
  {
   "cell_type": "code",
   "execution_count": 15,
   "id": "3264e89e-b9e3-463d-96c9-28b3fba4e4ce",
   "metadata": {},
   "outputs": [],
   "source": [
    "from SimPEG.electromagnetics.utils.em1d_utils import Stitched1DModel"
   ]
  },
  {
   "cell_type": "code",
   "execution_count": 21,
   "id": "00d35fea-6fd7-4fd1-9590-7b710c46d711",
   "metadata": {},
   "outputs": [
    {
     "data": {
      "text/plain": [
       "\u001b[0;31mInit signature:\u001b[0m\n",
       "\u001b[0mStitched1DModel\u001b[0m\u001b[0;34m(\u001b[0m\u001b[0;34m\u001b[0m\n",
       "\u001b[0;34m\u001b[0m    \u001b[0mtopography\u001b[0m\u001b[0;34m=\u001b[0m\u001b[0;32mNone\u001b[0m\u001b[0;34m,\u001b[0m\u001b[0;34m\u001b[0m\n",
       "\u001b[0;34m\u001b[0m    \u001b[0mphysical_property\u001b[0m\u001b[0;34m=\u001b[0m\u001b[0;32mNone\u001b[0m\u001b[0;34m,\u001b[0m\u001b[0;34m\u001b[0m\n",
       "\u001b[0;34m\u001b[0m    \u001b[0mline\u001b[0m\u001b[0;34m=\u001b[0m\u001b[0;32mNone\u001b[0m\u001b[0;34m,\u001b[0m\u001b[0;34m\u001b[0m\n",
       "\u001b[0;34m\u001b[0m    \u001b[0mtime_stamp\u001b[0m\u001b[0;34m=\u001b[0m\u001b[0;32mNone\u001b[0m\u001b[0;34m,\u001b[0m\u001b[0;34m\u001b[0m\n",
       "\u001b[0;34m\u001b[0m    \u001b[0mthicknesses\u001b[0m\u001b[0;34m=\u001b[0m\u001b[0;32mNone\u001b[0m\u001b[0;34m,\u001b[0m\u001b[0;34m\u001b[0m\n",
       "\u001b[0;34m\u001b[0m    \u001b[0;34m**\u001b[0m\u001b[0mkwargs\u001b[0m\u001b[0;34m,\u001b[0m\u001b[0;34m\u001b[0m\n",
       "\u001b[0;34m\u001b[0m\u001b[0;34m)\u001b[0m\u001b[0;34m\u001b[0m\u001b[0;34m\u001b[0m\u001b[0m\n",
       "\u001b[0;31mDocstring:\u001b[0m      <no docstring>\n",
       "\u001b[0;31mFile:\u001b[0m           ~/Project/simpeg/SimPEG/electromagnetics/utils/em1d_utils.py\n",
       "\u001b[0;31mType:\u001b[0m           type\n",
       "\u001b[0;31mSubclasses:\u001b[0m     "
      ]
     },
     "metadata": {},
     "output_type": "display_data"
    }
   ],
   "source": [
    "Stitched1DModel?"
   ]
  },
  {
   "cell_type": "code",
   "execution_count": 28,
   "id": "bed4c62a-5c47-4ec2-9190-45adfaec8b4a",
   "metadata": {},
   "outputs": [],
   "source": [
    "_, line_number = np.unique(em_data.line, return_inverse=True)"
   ]
  },
  {
   "cell_type": "code",
   "execution_count": 30,
   "id": "1efc8cd1-4aee-41fb-85ed-3e94c8ea5a74",
   "metadata": {},
   "outputs": [
    {
     "data": {
      "text/plain": [
       "(376760,)"
      ]
     },
     "execution_count": 30,
     "metadata": {},
     "output_type": "execute_result"
    }
   ],
   "source": [
    "line_number.shape"
   ]
  },
  {
   "cell_type": "code",
   "execution_count": 32,
   "id": "2b2e9940-8ab1-44ad-a2c3-b981580b9dd7",
   "metadata": {},
   "outputs": [],
   "source": [
    "stitched_model = Stitched1DModel(\n",
    "    thicknesses=em_data.hz[:-1],\n",
    "    line=line_number,\n",
    "    topography=em_data.topography,\n",
    "    time_stamp=em_data.timestamps,\n",
    ")"
   ]
  },
  {
   "cell_type": "code",
   "execution_count": 49,
   "id": "4b896a60-5cb7-4f49-8ebb-30bbe6e8beec",
   "metadata": {},
   "outputs": [],
   "source": [
    "from SimPEG import utils\n",
    "import pandas as pd\n",
    "def write_aem_leapfrog_csv(\n",
    "    hz, Line, topography, time_stamp, properties,\n",
    "    name_properties=['resistivity'],\n",
    "    nskip=1, work_dir='./', fname_header=''\n",
    "):\n",
    "\n",
    "    n_sounding_all = topography.shape[0]\n",
    "    stitched_model = Stitched1DModel(\n",
    "        thicknesses=hz[:-1],\n",
    "        line=Line[::nskip],\n",
    "        topography=topography[::nskip,:].copy(),\n",
    "        time_stamp=time_stamp[::nskip]\n",
    "    )\n",
    "    depth_from = np.zeros((hz.size, stitched_model.n_sounding), order='F')\n",
    "    depth_to = np.zeros((hz.size, stitched_model.n_sounding), order='F')\n",
    "\n",
    "    # collar information\n",
    "    lineid_collar = Line[::nskip]\n",
    "    wellid_collar = np.arange(lineid_collar.size) + 1\n",
    "\n",
    "    north_collar = stitched_model.topography[:,1]\n",
    "    east_collar = stitched_model.topography[:,0]\n",
    "    depth_max_collar = np.ones_like(wellid_collar) * hz.sum()\n",
    "    elevation_collar = stitched_model.topography[:,2]\n",
    "\n",
    "    # interval information\n",
    "\n",
    "    for ii in range(stitched_model.n_sounding):\n",
    "        depth_from[:,ii] = stitched_model.mesh_1d.vectorNx[:-1]\n",
    "        depth_to[:,ii] = stitched_model.mesh_1d.vectorNx[1:]\n",
    "\n",
    "    lineid = stitched_model.line.repeat(hz.size)\n",
    "    wellid = wellid_collar.repeat(hz.size)\n",
    "    east = utils.mkvc(stitched_model.xyz[:,0])\n",
    "    north = utils.mkvc(stitched_model.xyz[:,1])\n",
    "    depth_from = utils.mkvc(depth_from[:,:])\n",
    "    depth_to = utils.mkvc(depth_to[:,:])\n",
    "\n",
    "    df_collar = pd.DataFrame(data=np.c_[wellid_collar, stitched_model.line, east_collar, north_collar, elevation_collar, depth_max_collar], columns=['wellid', 'Line', 'X', 'Y', 'elevation', 'depth'])\n",
    "    df_collar.to_csv(work_dir+'collar-{:s}.csv'.format(fname_header), index=False)\n",
    "\n",
    "\n",
    "    distance_collar = np.zeros_like(wellid_collar)\n",
    "    azimuth_collar = np.zeros_like(wellid_collar)\n",
    "    dip_collar = np.ones_like(wellid_collar) * 90.\n",
    "\n",
    "    df_survey = pd.DataFrame(data=np.c_[wellid_collar, distance_collar, azimuth_collar, dip_collar], columns=['wellid', 'distance', 'azimuth', 'dip'])\n",
    "    df_survey.to_csv(work_dir+'survey-{:s}.csv'.format(fname_header), index=False)\n",
    "    data = np.c_[wellid, depth_from, depth_to]\n",
    "    for ii in range (len(name_properties)):\n",
    "        data = np.c_[data, properties[:,ii].reshape((n_sounding_all, hz.size))[::nskip, :].flatten()]\n",
    "    df_interval = pd.DataFrame(\n",
    "        data=data,\n",
    "        columns=['wellid', 'from', 'to'] + name_properties\n",
    "    )\n",
    "    df_interval.to_csv(work_dir+'interval-{:s}.csv'.format(fname_header), index=False)\n",
    "    return df_collar, df_survey, df_interval"
   ]
  },
  {
   "cell_type": "code",
   "execution_count": 50,
   "id": "a77f482c-626b-42f7-a3e9-c8eedd743507",
   "metadata": {},
   "outputs": [],
   "source": [
    "rho = em_data.resistivity.flatten()"
   ]
  },
  {
   "cell_type": "code",
   "execution_count": 51,
   "id": "c510e5ec-0bd7-4b23-84fe-4b96d4fd5f6e",
   "metadata": {},
   "outputs": [],
   "source": [
    "properties = rho.reshape([-1,1])"
   ]
  },
  {
   "cell_type": "code",
   "execution_count": 54,
   "id": "65d7f845-e64e-434a-9024-c0cee7fd281c",
   "metadata": {},
   "outputs": [
    {
     "name": "stderr",
     "output_type": "stream",
     "text": [
      "/Users/sgkang09/anaconda3/envs/em_recharge/lib/python3.8/site-packages/discretize/utils/code_utils.py:216: FutureWarning: TensorMesh.vectorNx has been deprecated, please use TensorMesh.nodes_x. It will be removed in version 1.0.0 of discretize.\n",
      "  warnings.warn(message, warn)\n",
      "/Users/sgkang09/anaconda3/envs/em_recharge/lib/python3.8/site-packages/discretize/utils/code_utils.py:216: FutureWarning: TensorMesh.vectorCCx has been deprecated, please use TensorMesh.cell_centers_x. It will be removed in version 1.0.0 of discretize.\n",
      "  warnings.warn(message, warn)\n"
     ]
    },
    {
     "data": {
      "text/plain": [
       "(        wellid   Line              X              Y  elevation    depth\n",
       " 0          1.0  300.0 -181331.375000   75145.796875      135.4  674.451\n",
       " 1          2.0  300.0 -181339.140625   75301.929688      156.3  674.451\n",
       " 2          3.0  300.0 -181303.531250   75457.859375      171.1  674.451\n",
       " 3          4.0  300.0 -181264.281250   75609.164062      160.3  674.451\n",
       " 4          5.0  300.0 -181236.234375   75982.367188      114.6  674.451\n",
       " ...        ...    ...            ...            ...        ...      ...\n",
       " 37671  37672.0  299.0   72250.554688 -168114.484375      123.4  674.451\n",
       " 37672  37673.0  299.0   72510.398438 -167896.921875      125.2  674.451\n",
       " 37673  37674.0  299.0   72797.828125 -167722.281250      129.3  674.451\n",
       " 37674  37675.0  299.0   73114.640625 -167721.031250      131.9  674.451\n",
       " 37675  37676.0  299.0   73417.992188 -167666.625000      135.3  674.451\n",
       " \n",
       " [37676 rows x 6 columns],\n",
       "         wellid  distance  azimuth   dip\n",
       " 0          1.0       0.0      0.0  90.0\n",
       " 1          2.0       0.0      0.0  90.0\n",
       " 2          3.0       0.0      0.0  90.0\n",
       " 3          4.0       0.0      0.0  90.0\n",
       " 4          5.0       0.0      0.0  90.0\n",
       " ...        ...       ...      ...   ...\n",
       " 37671  37672.0       0.0      0.0  90.0\n",
       " 37672  37673.0       0.0      0.0  90.0\n",
       " 37673  37674.0       0.0      0.0  90.0\n",
       " 37674  37675.0       0.0      0.0  90.0\n",
       " 37675  37676.0       0.0      0.0  90.0\n",
       " \n",
       " [37676 rows x 4 columns],\n",
       "           wellid     from       to  resistivity\n",
       " 0            1.0    0.000    2.000        13.08\n",
       " 1            1.0    2.000    4.276        12.87\n",
       " 2            1.0    4.276    6.866        12.80\n",
       " 3            1.0    6.866    9.813        12.39\n",
       " 4            1.0    9.813   13.166        11.89\n",
       " ...          ...      ...      ...          ...\n",
       " 1130275  37676.0  352.001  402.541       109.90\n",
       " 1130276  37676.0  402.541  460.061       175.90\n",
       " 1130277  37676.0  460.061  525.511       204.90\n",
       " 1130278  37676.0  525.511  599.981       219.00\n",
       " 1130279  37676.0  599.981  674.451       227.30\n",
       " \n",
       " [1130280 rows x 4 columns])"
      ]
     },
     "execution_count": 54,
     "metadata": {},
     "output_type": "execute_result"
    }
   ],
   "source": [
    "write_aem_leapfrog_csv(\n",
    "    em_data.hz, line_number, em_data.topography, em_data.timestamps, properties,\n",
    "    nskip = 10, fname_header='cdwr', work_dir='./outputs/leapfrog_files/'\n",
    ")"
   ]
  },
  {
   "cell_type": "code",
   "execution_count": null,
   "id": "cb1cf9f0-e7ff-46a2-9644-deee9bde056d",
   "metadata": {},
   "outputs": [],
   "source": []
  }
 ],
 "metadata": {
  "kernelspec": {
   "display_name": "Python 3 (ipykernel)",
   "language": "python",
   "name": "python3"
  },
  "language_info": {
   "codemirror_mode": {
    "name": "ipython",
    "version": 3
   },
   "file_extension": ".py",
   "mimetype": "text/x-python",
   "name": "python",
   "nbconvert_exporter": "python",
   "pygments_lexer": "ipython3",
   "version": "3.8.10"
  }
 },
 "nbformat": 4,
 "nbformat_minor": 5
}
