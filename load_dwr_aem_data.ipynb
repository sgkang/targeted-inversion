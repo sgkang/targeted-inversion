{
 "cells": [
  {
   "cell_type": "code",
   "execution_count": 1,
   "id": "ebf42634-e6c7-424b-899f-8967e386af5e",
   "metadata": {},
   "outputs": [],
   "source": [
    "import numpy as np\n",
    "import libaarhusxyz\n",
    "def read_em_data_from_dat_xyz(em_data, name_gate_times='gate times', dat_type='dat'):\n",
    "    gate_times = np.array(em_data.info[name_gate_times])\n",
    "    df_em = em_data.flightlines\n",
    "    group_em = df_em.groupby('record')\n",
    "    records = list(group_em.groups.keys())\n",
    "    df_em_collar = group_em[['line_no','utmx','utmy','timestamp','elevation','alt','tilt']].mean()\n",
    "\n",
    "    dat_names = ['data_{:d}'.format(ii+1) for ii in range(gate_times.size)]\n",
    "    df_em[dat_names] = em_data.layer_data['data']\n",
    "    if dat_type == 'dat':    \n",
    "        dat_std_names = ['datastd_{:d}'.format(ii+1) for ii in range(gate_times.size)]\n",
    "        df_em[dat_std_names] = em_data.layer_data['datastd']    \n",
    "\n",
    "    em_data_nan = em_data.layer_data['data']\n",
    "    em_data_nan = em_data_nan.replace(9999, np.nan)\n",
    "    n_ch1_active = np.round((~np.isnan(em_data_nan.loc[df_em[df_em.segment==1].index]).values).sum(axis=1).mean())\n",
    "    n_ch2_active = np.round((~np.isnan(em_data_nan.loc[df_em[df_em.segment==2].index]).values).sum(axis=1).mean())\n",
    "    print (f\"Active # of channels: Ch1={n_ch1_active:.0f}, Ch2={n_ch2_active:.0f}\")\n",
    "\n",
    "    inds_lm = (~np.isnan(em_data_nan.loc[df_em[df_em.segment==1].index]).values).sum(axis=0) > 0.\n",
    "    inds_hm = (~np.isnan(em_data_nan.loc[df_em[df_em.segment==2].index]).values).sum(axis=0) > 0.\n",
    "\n",
    "    data_lm = []\n",
    "    data_hm = []\n",
    "    if dat_type == 'dat':\n",
    "        datastd_lm = []\n",
    "        datastd_hm = []\n",
    "    records_inv = []\n",
    "    for i_record in records:\n",
    "        df_tmp = group_em.get_group(i_record)\n",
    "        values = df_tmp[dat_names].values\n",
    "        if dat_type == 'dat':\n",
    "            values_std = df_tmp[dat_std_names].values\n",
    "        if df_tmp.shape[0] == 2:\n",
    "            i_lm = np.argwhere(df_tmp['segment'].values==1)[0][0]                \n",
    "            i_hm = np.argwhere(df_tmp['segment'].values==2)[0][0]\n",
    "            data_lm.append(values[i_lm,inds_lm])\n",
    "            data_hm.append(values[i_hm,inds_hm])\n",
    "            if dat_type == 'dat':\n",
    "                datastd_lm.append(values_std[i_lm,inds_lm])\n",
    "                datastd_hm.append(values_std[i_hm,inds_hm])        \n",
    "            records_inv.append(i_record)\n",
    "    data_lm = np.vstack(data_lm)\n",
    "    data_hm = np.vstack(data_hm)\n",
    "    if dat_type == 'dat':\n",
    "        datastd_lm = np.vstack(datastd_lm)\n",
    "        datastd_hm = np.vstack(datastd_hm)\n",
    "    records_inv = np.hstack(records_inv)\n",
    "    df_em_inv = df_em_collar.loc[records_inv]\n",
    "    times_lm_inv = gate_times[inds_lm]\n",
    "    times_hm_inv = gate_times[inds_hm]    \n",
    "\n",
    "    ch1_names = ['dbdt_ch1gt_{:d}'.format(ii+1) for ii in range(data_lm.shape[1])]\n",
    "    ch2_names = ['dbdt_ch2gt_{:d}'.format(ii+1) for ii in range(data_hm.shape[1])]\n",
    "    if dat_type == 'dat':    \n",
    "        std_ch1_names = ['dbdt_std_ch1gt_{:d}'.format(ii+1) for ii in range(data_lm.shape[1])]\n",
    "        std_ch2_names = ['dbdt_std_ch2gt_{:d}'.format(ii+1) for ii in range(data_hm.shape[1])]    \n",
    "\n",
    "    df_em_inv[ch1_names] = data_lm\n",
    "    df_em_inv[ch2_names] = data_hm\n",
    "    if dat_type == 'dat':    \n",
    "        df_em_inv[std_ch1_names] = datastd_lm\n",
    "        df_em_inv[std_ch2_names] = datastd_hm\n",
    "    \n",
    "    meta_data_dict = {}\n",
    "    meta_data_dict['ch1_names'] = ch1_names\n",
    "    meta_data_dict['ch2_names'] = ch2_names\n",
    "    if dat_type == 'dat':    \n",
    "        meta_data_dict['std_ch1_names'] = std_ch1_names\n",
    "        meta_data_dict['std_ch2_names'] = std_ch1_names\n",
    "    meta_data_dict['ch1_times'] = times_lm_inv\n",
    "    meta_data_dict['ch2_times'] = times_hm_inv\n",
    "    df_em_inv = df_em_inv.replace(9999, np.nan)\n",
    "    return df_em_inv, meta_data_dict"
   ]
  },
  {
   "cell_type": "code",
   "execution_count": 2,
   "id": "6b38acad-010b-41eb-80bb-c96a62a1599a",
   "metadata": {},
   "outputs": [],
   "source": [
    "import pandas as pd\n",
    "import dill"
   ]
  },
  {
   "cell_type": "code",
   "execution_count": 3,
   "id": "7175cdc0-e5ab-4463-a434-407b69dc3cdf",
   "metadata": {},
   "outputs": [],
   "source": [
    "work_dir = \"/Users/sgkang09/Dropbox/Stanford/Seogi-Jonny/targeted_inversion/em_data_cv/sa_4_2022_spring/\"\n",
    "fname = work_dir+\"WO4_SCIsmooth_MOD_dat.xyz\"\n",
    "aem_data = libaarhusxyz.XYZ(fname)\n",
    "fname = work_dir+\"WO4_SCIsmooth_MOD_syn.xyz\"\n",
    "aem_data_syn = libaarhusxyz.XYZ(fname)"
   ]
  },
  {
   "cell_type": "code",
   "execution_count": 4,
   "id": "1b474042-4e14-4756-8f3c-467cd9ccfd9c",
   "metadata": {},
   "outputs": [],
   "source": [
    "fname = work_dir+\"WO4_SCIsmooth_MOD_inv.xyz\"\n",
    "aem_model = libaarhusxyz.XYZ(fname)"
   ]
  },
  {
   "cell_type": "code",
   "execution_count": 5,
   "id": "c32959c4-6f00-48fc-b342-998ea572e360",
   "metadata": {},
   "outputs": [],
   "source": [
    "# df_em_inv, meta_data_dict = read_em_data_from_dat_xyz(aem_data, name_gate_times='gate times (s)')\n",
    "# dill.dump(meta_data_dict, open('sa_4_meta_data.pik', 'wb'))\n",
    "# df_em_inv.to_parquet('sa_4_inv.parquet')\n",
    "# df_em_syn, _ = read_em_data_from_dat_xyz(aem_data_syn, name_gate_times='gate times (s)', dat_type='syn')\n",
    "# df_em_syn.to_parquet('sa_4_syn.parquet')"
   ]
  },
  {
   "cell_type": "code",
   "execution_count": 6,
   "id": "80f54545-338b-44c0-b9ff-f2e090d2577a",
   "metadata": {},
   "outputs": [],
   "source": [
    "df_em_inv = pd.read_parquet(work_dir+\"sa_4_inv.parquet\")\n",
    "df_em_syn = pd.read_parquet(work_dir+\"sa_4_syn.parquet\")\n",
    "meta_data_dict = dill.load(open(work_dir+\"sa_4_meta_data.pik\", \"rb\"))"
   ]
  },
  {
   "cell_type": "code",
   "execution_count": 7,
   "id": "ab585975-213b-4fd3-ba9c-963e833fcdba",
   "metadata": {},
   "outputs": [],
   "source": [
    "xy = aem_data.flightlines[['utmx', 'utmy']].values"
   ]
  },
  {
   "cell_type": "code",
   "execution_count": 8,
   "id": "a3e55cb2-36a8-4378-809c-a335a7ab2be2",
   "metadata": {},
   "outputs": [],
   "source": [
    "# fname = \"/Users/sgkang09/Dropbox/Stanford/Seogi-Jonny/targeted_inversion/em_data_cv/sa_5_2022_spring/SCI_smooth30L_MOD_syn.xyz\"\n",
    "# aem_data_5 = libaarhusxyz.XYZ(fname)\n",
    "# xy_5 = aem_data_5.flightlines[['utmx', 'utmy']].values"
   ]
  },
  {
   "cell_type": "code",
   "execution_count": 40,
   "id": "52100cc1-40bd-4e72-aaa2-af06e11a772d",
   "metadata": {},
   "outputs": [
    {
     "data": {
      "text/plain": [
       "[<matplotlib.lines.Line2D at 0x7fbf30482f80>]"
      ]
     },
     "execution_count": 40,
     "metadata": {},
     "output_type": "execute_result"
    },
    {
     "data": {
      "image/png": "[encoded data removed]",
      "text/plain": [
       "<Figure size 640x480 with 1 Axes>"
      ]
     },
     "metadata": {},
     "output_type": "display_data"
    }
   ],
   "source": [
    "import matplotlib.pyplot as plt\n",
    "ch1_names = meta_data_dict['ch1_names']\n",
    "ch2_names = meta_data_dict['ch2_names']\n",
    "times_ch1 = meta_data_dict['ch1_times'] -1.99e-6\n",
    "times_ch2 = meta_data_dict['ch2_times']\n",
    "\n",
    "record_tmp = 1000\n",
    "plt.loglog(times_ch1, abs(df_em_inv.loc[record_tmp][ch1_names]), 'o')\n",
    "plt.loglog(times_ch2, abs(df_em_inv.loc[record_tmp][ch2_names]), 'o')\n",
    "plt.loglog(times_ch1, abs(df_em_syn.loc[record_tmp][ch1_names]), '-')\n",
    "plt.loglog(times_ch2, abs(df_em_syn.loc[record_tmp][ch2_names]), '-')"
   ]
  },
  {
   "cell_type": "code",
   "execution_count": 41,
   "id": "442a4acc-b6ad-4e3d-9cd1-497d6507f5be",
   "metadata": {},
   "outputs": [],
   "source": [
    "df_rho_collar = aem_model.flightlines\n",
    "rho = aem_model.layer_data['rho_i'].loc[df_rho_collar[df_rho_collar['record']==record_tmp].index].values.flatten()\n",
    "thickness = aem_model.layer_data['thk'].loc[df_rho_collar[df_rho_collar['record']==record_tmp].index].values.flatten()"
   ]
  },
  {
   "cell_type": "code",
   "execution_count": 42,
   "id": "4ff95b04-8c83-44bf-be1d-4cee421fb0ee",
   "metadata": {},
   "outputs": [
    {
     "name": "stdout",
     "output_type": "stream",
     "text": [
      "header [General] parsed\n",
      "header [Channel1] parsed\n",
      "header [Channel2] parsed\n",
      "-1.99e-06 0.0\n"
     ]
    }
   ],
   "source": [
    "system = libaarhusxyz.parse_gex(\"/Users/sgkang09/Dropbox/Stanford/Seogi-Jonny/targeted_inversion/em_data_cv/sa_4_2022_spring/20220406_20039_WO4_Ramboll_312_30Hz_SR2.gex\")\n",
    "area = system['General']['TxLoopArea']\n",
    "waveform_hm = system['General']['WaveformHMPoint']\n",
    "waveform_lm = system['General']['WaveformLMPoint']\n",
    "i_start_hm = int(system['Channel2']['RemoveInitialGates'])\n",
    "i_start_lm = int(system['Channel1']['RemoveInitialGates'])\n",
    "time_input_currents_hm = waveform_hm[:,0]\n",
    "input_currents_hm = waveform_hm[:,1]\n",
    "time_input_currents_lm = waveform_lm[:,0]\n",
    "input_currents_lm = waveform_lm[:,1]\n",
    "\n",
    "time_gates = system['General']['GateTime']\n",
    "# GateTimeShift=system['Channel1']['GateTimeShift']\n",
    "GateTimeShift = -1.99e-6\n",
    "MeaTimeDelay=system['Channel1']['MeaTimeDelay']\n",
    "NoGates=int(system['Channel1']['NoGates'])\n",
    "print (GateTimeShift, MeaTimeDelay)\n",
    "t0_lm = waveform_lm[:,0].max()\n",
    "times_lm = (time_gates[:NoGates,0] + GateTimeShift + MeaTimeDelay)[i_start_lm:]\n",
    "GateTimeShift=system['Channel2']['GateTimeShift']\n",
    "MeaTimeDelay=system['Channel2']['MeaTimeDelay']\n",
    "NoGates=int(system['Channel2']['NoGates'])\n",
    "t0_hm = waveform_hm[:,0].max()\n",
    "times_hm = (time_gates[:NoGates,0] + GateTimeShift + MeaTimeDelay)[i_start_hm:]"
   ]
  },
  {
   "cell_type": "code",
   "execution_count": 61,
   "id": "b8c3e32b-8b1f-44d5-8a83-5ac02af7010c",
   "metadata": {},
   "outputs": [
    {
     "data": {
      "text/plain": [
       "array([6.2250e-06, 8.2300e-06, 1.0220e-05, 1.2730e-05, 1.6220e-05,\n",
       "       2.0720e-05, 2.6220e-05, 3.3230e-05, 4.2220e-05, 5.3720e-05,\n",
       "       6.8220e-05, 8.6220e-05, 1.0871e-04, 1.3671e-04, 1.7221e-04,\n",
       "       2.1771e-04, 2.7471e-04, 3.4671e-04, 4.3771e-04])"
      ]
     },
     "execution_count": 61,
     "metadata": {},
     "output_type": "execute_result"
    }
   ],
   "source": [
    "times_lm[4:4+19]"
   ]
  },
  {
   "cell_type": "code",
   "execution_count": 62,
   "id": "e12df3b9-6926-48dd-b1a4-79be2f6ddcf2",
   "metadata": {},
   "outputs": [
    {
     "data": {
      "text/plain": [
       "array([6.2250e-06, 8.2300e-06, 1.0220e-05, 1.2730e-05, 1.6220e-05,\n",
       "       2.0720e-05, 2.6220e-05, 3.3230e-05, 4.2220e-05, 5.3720e-05,\n",
       "       6.8220e-05, 8.6220e-05, 1.0871e-04, 1.3671e-04, 1.7221e-04,\n",
       "       2.1771e-04, 2.7471e-04, 3.4671e-04, 4.3771e-04])"
      ]
     },
     "execution_count": 62,
     "metadata": {},
     "output_type": "execute_result"
    }
   ],
   "source": [
    "times_ch1"
   ]
  },
  {
   "cell_type": "code",
   "execution_count": 45,
   "id": "c65d401b-049e-4cc8-a422-7a3eabcb080a",
   "metadata": {},
   "outputs": [
    {
     "data": {
      "text/plain": [
       "array([0.0004872, 0.0005227, 0.0005682, 0.0006252, 0.0006972, 0.0007882,\n",
       "       0.0009022, 0.001046 , 0.001228 , 0.001456 , 0.001744 , 0.002109 ,\n",
       "       0.002567 , 0.003145 , 0.003864 , 0.004744 , 0.005822 , 0.00714  ,\n",
       "       0.008754 , 0.01073  ])"
      ]
     },
     "execution_count": 45,
     "metadata": {},
     "output_type": "execute_result"
    }
   ],
   "source": [
    "times_ch2"
   ]
  },
  {
   "cell_type": "code",
   "execution_count": null,
   "id": "f36a5237-8b61-4cfa-a13a-545f0db018ee",
   "metadata": {},
   "outputs": [],
   "source": []
  },
  {
   "cell_type": "code",
   "execution_count": 46,
   "id": "034f6702-7a84-455f-b33e-913debace3cc",
   "metadata": {},
   "outputs": [],
   "source": [
    "# source_height = df_em_inv.loc[record_tmp]['alt']\n",
    "source_height = df_rho_collar[df_rho_collar['record']==record_tmp]['invalt'].values[0]"
   ]
  },
  {
   "cell_type": "code",
   "execution_count": 47,
   "id": "a1b5fb25-7b50-4cc7-8b9f-dae906423250",
   "metadata": {},
   "outputs": [],
   "source": [
    "xy_tmp = df_rho_collar[df_rho_collar['record']==record_tmp][['utmx', 'utmy']].values"
   ]
  },
  {
   "cell_type": "code",
   "execution_count": 48,
   "id": "da221757-ad2f-4a0c-ac03-b2e52eb04d65",
   "metadata": {},
   "outputs": [
    {
     "data": {
      "text/plain": [
       "array([9.900e-01, 2.044e+05])"
      ]
     },
     "execution_count": 48,
     "metadata": {},
     "output_type": "execute_result"
    }
   ],
   "source": [
    "system['General']['RxCoilLPFilter']"
   ]
  },
  {
   "cell_type": "code",
   "execution_count": 49,
   "id": "7da0065d-95ec-41df-a880-0dd2d2b4da03",
   "metadata": {},
   "outputs": [
    {
     "data": {
      "text/plain": [
       "array([1.e+00, 3.e+05])"
      ]
     },
     "execution_count": 49,
     "metadata": {},
     "output_type": "execute_result"
    }
   ],
   "source": [
    "system['Channel1']['TiBLowPassFilter']"
   ]
  },
  {
   "cell_type": "code",
   "execution_count": 50,
   "id": "5b87969f-8b30-40e2-90fa-cb8580a291f6",
   "metadata": {},
   "outputs": [
    {
     "data": {
      "text/plain": [
       "array([1.e+00, 3.e+05])"
      ]
     },
     "execution_count": 50,
     "metadata": {},
     "output_type": "execute_result"
    }
   ],
   "source": [
    "system['Channel2']['TiBLowPassFilter']"
   ]
  },
  {
   "cell_type": "code",
   "execution_count": 51,
   "id": "e9ddca91-2c35-4072-96f9-b5e145fd0dc8",
   "metadata": {},
   "outputs": [],
   "source": [
    "from discretize import TensorMesh\n",
    "import numpy as np\n",
    "from simpeg import maps\n",
    "import simpeg.electromagnetics.time_domain as tdem\n",
    "from simpeg.electromagnetics.utils.em1d_utils import set_mesh_1d\n",
    "\n",
    "# Source properties\n",
    "source_location = np.array([0., 0., source_height])  \n",
    "source_orientation = \"z\"                      # \"x\", \"y\" or \"z\"\n",
    "source_current = 1.                           # maximum on-time current\n",
    "\n",
    "# Receiver properties\n",
    "receiver_location = np.array([13.25, 0., source_height+2.])\n",
    "receiver_orientation = \"z\"                    # \"x\", \"y\" or \"z\"\n",
    "# Receiver list\n",
    "# Define receivers at each location.\n",
    "receivers_lm_list = [\n",
    "    tdem.receivers.PointMagneticFluxTimeDerivative(\n",
    "        receiver_location, times_ch1, \"z\",\n",
    "        bw_cutoff_frequency=3e5,\n",
    "        bw_power=1,\n",
    "        lp_cutoff_frequency=2.044e+05,\n",
    "        lp_power=0.99,        \n",
    "    ),\n",
    "]  # Make a list containing all receivers even if just one\n",
    "receivers_hm_list = [\n",
    "    tdem.receivers.PointMagneticFluxTimeDerivative(\n",
    "        receiver_location, times_ch2, \"z\",\n",
    "        bw_cutoff_frequency=3e5,\n",
    "        bw_power=1,\n",
    "        lp_cutoff_frequency=2.044e+05,\n",
    "        lp_power=0.99,        \n",
    "    ),\n",
    "]  # Make a list containing all receivers even if just one\n",
    "\n",
    "waveform_lm = tdem.sources.PiecewiseLinearWaveform(\n",
    "        times=time_input_currents_lm, currents=input_currents_lm\n",
    ")\n",
    "waveform_hm = tdem.sources.PiecewiseLinearWaveform(\n",
    "        times=time_input_currents_hm, currents=input_currents_hm\n",
    ")\n",
    "# Must define the transmitter properties and associated receivers\n",
    "source_list = [\n",
    "    tdem.sources.MagDipole(\n",
    "        receivers_lm_list,\n",
    "        location=source_location,\n",
    "        waveform=waveform_lm,\n",
    "    ),\n",
    "    tdem.sources.MagDipole(\n",
    "        receivers_hm_list,\n",
    "        location=source_location,\n",
    "        waveform=waveform_hm,\n",
    "    ),    \n",
    "]\n",
    "\n",
    "survey = tdem.Survey(source_list)\n",
    "# Define the simulation\n",
    "simulation = tdem.Simulation1DLayered(\n",
    "    survey=survey, thicknesses=thickness, sigmaMap=maps.IdentityMap(nP=len(rho)),\n",
    ")\n",
    "# %%time\n",
    "dpred = simulation.dpred(1./rho)  "
   ]
  },
  {
   "cell_type": "code",
   "execution_count": 52,
   "id": "cdd237e6-4cad-48bf-bba1-ce1c2abf0af4",
   "metadata": {},
   "outputs": [
    {
     "data": {
      "text/plain": [
       "array([ 2.57868164e-08,  8.43221246e-10, -1.18959831e-08, -1.24360341e-08,\n",
       "       -1.13641643e-08, -6.25072705e-09, -3.60095366e-09, -2.16579863e-09,\n",
       "       -1.33287098e-09, -8.31663153e-10, -5.23928878e-10, -3.31806133e-10,\n",
       "       -2.08634842e-10, -1.29593502e-10, -7.85262476e-11, -4.61253376e-11,\n",
       "       -2.66239490e-11, -1.50948916e-11, -8.46210183e-12, -2.75102758e-11,\n",
       "       -2.12690761e-11, -1.60089656e-11, -1.18429335e-11, -8.62254409e-12,\n",
       "       -6.20224059e-12, -4.43273960e-12, -3.14306496e-12, -2.20596126e-12,\n",
       "       -1.53353796e-12, -1.04921026e-12, -7.03850195e-13, -4.64159404e-13,\n",
       "       -3.00027617e-13, -1.91131736e-13, -1.20559606e-13, -7.49456840e-14,\n",
       "       -4.57328753e-14, -2.72406168e-14, -1.57766285e-14])"
      ]
     },
     "execution_count": 52,
     "metadata": {},
     "output_type": "execute_result"
    }
   ],
   "source": [
    "dpred"
   ]
  },
  {
   "cell_type": "code",
   "execution_count": 53,
   "id": "02911c51-dcbb-43cf-bab5-ab467de49662",
   "metadata": {},
   "outputs": [
    {
     "data": {
      "text/plain": [
       "19"
      ]
     },
     "execution_count": 53,
     "metadata": {},
     "output_type": "execute_result"
    }
   ],
   "source": [
    "len(ch1_names)"
   ]
  },
  {
   "cell_type": "code",
   "execution_count": 54,
   "id": "81c25ee4-d3b9-4fd6-b6bf-6f43637bc714",
   "metadata": {},
   "outputs": [
    {
     "data": {
      "text/plain": [
       "20"
      ]
     },
     "execution_count": 54,
     "metadata": {},
     "output_type": "execute_result"
    }
   ],
   "source": [
    "len(ch2_names)"
   ]
  },
  {
   "cell_type": "code",
   "execution_count": 55,
   "id": "310ce538-b9d2-4fc5-9b3d-4a98b00f37a4",
   "metadata": {},
   "outputs": [
    {
     "data": {
      "text/plain": [
       "(39,)"
      ]
     },
     "execution_count": 55,
     "metadata": {},
     "output_type": "execute_result"
    }
   ],
   "source": [
    "dpred.shape"
   ]
  },
  {
   "cell_type": "code",
   "execution_count": 56,
   "id": "d7b5b73b-7ad9-46ba-86eb-8488a80e4810",
   "metadata": {},
   "outputs": [
    {
     "data": {
      "text/plain": [
       "[<matplotlib.lines.Line2D at 0x7fbf1442d210>]"
      ]
     },
     "execution_count": 56,
     "metadata": {},
     "output_type": "execute_result"
    },
    {
     "data": {
      "image/png": "[encoded data removed]",
      "text/plain": [
       "<Figure size 640x480 with 1 Axes>"
      ]
     },
     "metadata": {},
     "output_type": "display_data"
    }
   ],
   "source": [
    "plt.loglog(times_ch1, abs(df_em_syn.loc[record_tmp][ch1_names]), 'o')\n",
    "plt.loglog(times_ch2, abs(df_em_syn.loc[record_tmp][ch2_names]), 'o')\n",
    "plt.loglog(times_ch1, abs(dpred[:len(ch1_names)]), '-')\n",
    "plt.loglog(times_ch2, abs(dpred[len(ch1_names):]), '-')"
   ]
  },
  {
   "cell_type": "code",
   "execution_count": 22,
   "id": "c77eaeb1-a33a-4041-b6aa-17206b9ab2a8",
   "metadata": {},
   "outputs": [
    {
     "data": {
      "text/plain": [
       "[<matplotlib.lines.Line2D at 0x7fbf13aa50f0>]"
      ]
     },
     "execution_count": 22,
     "metadata": {},
     "output_type": "execute_result"
    },
    {
     "data": {
      "image/png": "[encoded data removed]",
      "text/plain": [
       "<Figure size 640x480 with 1 Axes>"
      ]
     },
     "metadata": {},
     "output_type": "display_data"
    }
   ],
   "source": [
    "plt.plot(xy[:,0], xy[:,1], ',')\n",
    "plt.plot(xy_tmp[:,0], xy_tmp[:,1], 'ro')\n"
   ]
  }
 ],
 "metadata": {
  "kernelspec": {
   "display_name": "Python 3 (ipykernel)",
   "language": "python",
   "name": "python3"
  },
  "language_info": {
   "codemirror_mode": {
    "name": "ipython",
    "version": 3
   },
   "file_extension": ".py",
   "mimetype": "text/x-python",
   "name": "python",
   "nbconvert_exporter": "python",
   "pygments_lexer": "ipython3",
   "version": "3.10.9"
  }
 },
 "nbformat": 4,
 "nbformat_minor": 5
}
